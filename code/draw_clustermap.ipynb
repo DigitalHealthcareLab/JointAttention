{
 "cells": [
  {
   "cell_type": "code",
   "execution_count": 72,
   "metadata": {},
   "outputs": [],
   "source": [
    "from pathlib import Path\n",
    "from enum import Enum, auto\n",
    "import numpy as np\n",
    "import pandas as pd\n",
    "import torch\n",
    "import matplotlib.pyplot as plt\n",
    "from matplotlib.patches import Patch\n",
    "import seaborn as sns\n",
    "from tqdm import tqdm\n",
    "from scipy.spatial import distance\n",
    "from scipy.cluster import hierarchy\n",
    "\n",
    "\n",
    "from src.custom_model_videos_res18 import Resnet18Rnn\n",
    "from src.data_loader_diagnosis_videos import get_loader\n",
    "\n",
    "class Task(Enum):\n",
    "    IJA = auto()\n",
    "    RJA_LOW = auto()\n",
    "    RJA_HIGH = auto()"
   ]
  },
  {
   "cell_type": "code",
   "execution_count": 62,
   "metadata": {},
   "outputs": [],
   "source": [
    "binary_handles = [\n",
    "    Patch(facecolor=\"g\", edgecolor=\"g\", label=\"TD\"),\n",
    "    Patch(facecolor=\"y\", edgecolor=\"y\", label=\"ASD\"),\n",
    "]\n",
    "binary_labels = [\"TD\", \"ASD\"]\n",
    "\n",
    "multiclass_handles = [\n",
    "    Patch(facecolor=\"g\", edgecolor=\"g\", label=\"non-ASD\"),\n",
    "    Patch(facecolor=\"y\", edgecolor=\"y\", label=\"mild-moderate ASD\"),\n",
    "    Patch(facecolor=\"blue\", edgecolor=\"blue\", label=\"severe ASD\"),\n",
    "]\n",
    "multiclass_labels = [\"non-ASD\", \"mild-moderate ASD\", \"severe ASD\"]"
   ]
  },
  {
   "cell_type": "code",
   "execution_count": 71,
   "metadata": {},
   "outputs": [
    {
     "name": "stderr",
     "output_type": "stream",
     "text": [
      "100%|██████████| 10/10 [00:00<00:00, 1454.29it/s]\n",
      "100%|██████████| 10/10 [00:00<00:00, 2124.24it/s]\n",
      "100%|██████████| 10/10 [00:00<00:00, 2168.83it/s]\n",
      "100%|██████████| 10/10 [00:00<00:00, 2169.06it/s]\n",
      "100%|██████████| 10/10 [00:00<00:00, 2155.90it/s]\n",
      "100%|██████████| 10/10 [00:00<00:00, 2148.83it/s]\n"
     ]
    }
   ],
   "source": [
    "for target_name in [\n",
    "                    'label', \n",
    "                    'sev_ados'\n",
    "                    ] :\n",
    "    for task_name in ['IJA', 'RJA_LOW', 'RJA_HIGH'] :\n",
    "        if target_name == 'label' : \n",
    "            color_map = {0 : 'g', 1 : 'y'}\n",
    "            project_path = Path(f'BINARY_FOLD_{target_name}').joinpath(task_name)\n",
    "            handles = binary_handles\n",
    "            class_labels = binary_labels\n",
    "        else : \n",
    "            color_map = {0 : 'g', 1 : 'y', 2 : 'blue'}\n",
    "            project_path = Path(f'MULTI_FOLD_{target_name}').joinpath(task_name)\n",
    "            handles = multiclass_handles\n",
    "            class_labels = multiclass_labels\n",
    "        \n",
    "        if task_name == 'IJA' : \n",
    "            new_task_name = 'IJA'\n",
    "            seq_len = 100\n",
    "        elif task_name == 'RJA_LOW' :\n",
    "            new_task_name = 'RJA_low'\n",
    "            seq_len = 50\n",
    "        elif task_name == 'RJA_HIGH' :\n",
    "            new_task_name = 'RJA_high'\n",
    "            seq_len = 50\n",
    "            \n",
    "        df_path = project_path.joinpath('participant_information_df.csv')\n",
    "        df = pd.read_csv(df_path)\n",
    "        df['file_num'] = df['file_name'].apply(lambda x : int(x[-2:].replace('_','')))\n",
    "        id_severity_dict = dict(zip(df['id'], df['severity']))\n",
    "        file_num_file_name_dict = dict(zip(df['file_num'], df['file_name']))\n",
    "\n",
    "        file_df = df.groupby(['id'])['file_num'].agg('min').reset_index()\n",
    "        file_df['file_name'] = file_df['file_num'].map(file_num_file_name_dict)\n",
    "        file_df['severity'] = file_df['id'].map(id_severity_dict)\n",
    "\n",
    "        whole_alphas = []\n",
    "        for fold_num in tqdm(range(10)) : \n",
    "            alpha_path = project_path.joinpath(f\"fold_{fold_num}\").joinpath(f\"alphas_v1.npy\")\n",
    "            alphas = np.load(alpha_path)\n",
    "            whole_alphas.append(alphas)\n",
    "        whole_alphas = np.array(whole_alphas)\n",
    "        whole_alphas = whole_alphas.mean(axis=0)\n",
    "\n",
    "        alpha_df = pd.DataFrame(whole_alphas, columns=[f'frame_{i}' for i in range(1,whole_alphas.shape[1]+1)])\n",
    "\n",
    "        label_colors = file_df['severity'].map(color_map).values\n",
    "\n",
    "        correlations = alpha_df.corr()\n",
    "        correlations_array = np.asarray(alpha_df.corr())\n",
    "\n",
    "        row_linkage = hierarchy.linkage(\n",
    "            distance.pdist(alpha_df), method='average')\n",
    "\n",
    "\n",
    "        yticklabels = file_df['id'].to_list()\n",
    "        \n",
    "        \n",
    "        clust = sns.clustermap( alpha_df, \n",
    "                        # row_linkage=row_linkage, #col_linkage=col_linkage, \n",
    "                        row_colors=label_colors, #col_colors=label_colors,\n",
    "                        method=\"average\", col_cluster=False,\n",
    "                        figsize=(15, 20), cmap=\"rocket_r\",\n",
    "                        dendrogram_ratio=(0.1, 0.2),\n",
    "                        cbar_pos=(1, 0, 0.03, 1),\n",
    "                        yticklabels=yticklabels,\n",
    "                        robust = True\n",
    "                        )\n",
    "\n",
    "\n",
    "        clust.ax_heatmap.set_xlabel(\"Video Frames\", fontsize=10)\n",
    "        clust.ax_heatmap.set_ylabel(\"Participant ID\", fontsize=10)\n",
    "        clust.fig.subplots_adjust(top=0.9)\n",
    "        clust.cax.set_position([1.03, 0.065, 0.03, 0.665])\n",
    "        clust.cax.set_ylabel(\"Attention Weight\", fontsize=10)\n",
    "        clust.cax.tick_params(labelsize=10)\n",
    "\n",
    "        clust.ax_heatmap.legend(\n",
    "            handles,\n",
    "            class_labels,\n",
    "            # title=\"label\",\n",
    "            loc=\"lower left\",\n",
    "            bbox_to_anchor=(0, 1.00),\n",
    "            ncol = 2 if target_name == 'label' else 3,\n",
    "            fontsize=10,\n",
    "            frameon=False,\n",
    "        )\n",
    "        clust.ax_heatmap.set_xticks(np.arange(0, seq_len+1, 10) + 0.5, minor=False)\n",
    "        clust.ax_heatmap.set_xticklabels(np.arange(0, seq_len * 3 + 1, 30), minor=False, fontsize=10)\n",
    "\n",
    "        save_path = Path(f\"plots/{project_path.parent.name}/clustermap_{task_name}.pdf\")\n",
    "        save_path.parent.mkdir(parents=True, exist_ok=True)\n",
    "        plt.savefig(save_path, bbox_inches='tight', pad_inches=0.0, dpi=300, transparent=True,format='pdf') # \n",
    "        plt.close()\n",
    "        # break\n",
    "    # break"
   ]
  },
  {
   "cell_type": "code",
   "execution_count": null,
   "metadata": {},
   "outputs": [],
   "source": []
  },
  {
   "cell_type": "code",
   "execution_count": null,
   "metadata": {},
   "outputs": [],
   "source": []
  },
  {
   "cell_type": "code",
   "execution_count": null,
   "metadata": {},
   "outputs": [],
   "source": []
  },
  {
   "cell_type": "code",
   "execution_count": null,
   "metadata": {},
   "outputs": [],
   "source": [
    "Path('MULTI_FOLD_sev_ados').joinpath('')"
   ]
  },
  {
   "cell_type": "code",
   "execution_count": null,
   "metadata": {},
   "outputs": [],
   "source": []
  }
 ],
 "metadata": {
  "kernelspec": {
   "display_name": "Python 3.6.8 ('.venv': venv)",
   "language": "python",
   "name": "python3"
  },
  "language_info": {
   "codemirror_mode": {
    "name": "ipython",
    "version": 3
   },
   "file_extension": ".py",
   "mimetype": "text/x-python",
   "name": "python",
   "nbconvert_exporter": "python",
   "pygments_lexer": "ipython3",
   "version": "3.6.8"
  },
  "orig_nbformat": 4,
  "vscode": {
   "interpreter": {
    "hash": "ceb61009484dec1b9b3a250dc3c2781eb518c3005be585a86b00175642b98d5e"
   }
  }
 },
 "nbformat": 4,
 "nbformat_minor": 2
}
